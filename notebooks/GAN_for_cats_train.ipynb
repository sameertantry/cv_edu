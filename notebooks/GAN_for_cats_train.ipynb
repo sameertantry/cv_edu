{
 "cells": [
  {
   "cell_type": "code",
   "execution_count": null,
   "metadata": {
    "id": "leqvgVHrTLeK"
   },
   "outputs": [],
   "source": [
    "!pip install clearml"
   ]
  },
  {
   "cell_type": "code",
   "execution_count": null,
   "metadata": {
    "id": "PNb9p3lMI5qd"
   },
   "outputs": [],
   "source": [
    "import itertools\n",
    "\n",
    "import torch\n",
    "import torch.nn as nn\n",
    "import torchvision\n",
    "import torchvision.transforms as T\n",
    "import torchvision.transforms.functional as TF\n",
    "from clearml import Task\n",
    "from tqdm import tqdm"
   ]
  },
  {
   "cell_type": "code",
   "execution_count": null,
   "metadata": {
    "id": "wSk2KXzXVUx2"
   },
   "outputs": [],
   "source": [
    "%env CLEARML_WEB_HOST= ...\n",
    "%env CLEARML_API_HOST= ...\n",
    "%env CLEARML_FILES_HOST= ...\n",
    "\n",
    "%env CLEARML_API_ACCESS_KEY= ...\n",
    "%env CLEARML_API_SECRET_KEY= ..."
   ]
  },
  {
   "cell_type": "markdown",
   "metadata": {
    "id": "_76VjKhnZHhy"
   },
   "source": [
    "### Data"
   ]
  },
  {
   "cell_type": "code",
   "execution_count": null,
   "metadata": {
    "colab": {
     "base_uri": "https://localhost:8080/"
    },
    "id": "8kZOYHRKLQTn",
    "outputId": "8f810054-0649-4d31-c65a-e302aeeed46c"
   },
   "outputs": [
    {
     "name": "stdout",
     "output_type": "stream",
     "text": [
      "Mounted at /content/drive\n"
     ]
    }
   ],
   "source": [
    "from google.colab import drive\n",
    "\n",
    "\n",
    "drive.mount(\"/content/drive\")"
   ]
  },
  {
   "cell_type": "code",
   "execution_count": null,
   "metadata": {
    "id": "GCqn_dxrLooN"
   },
   "outputs": [],
   "source": [
    "!mv /content/drive/MyDrive/cats_dataset.zip ."
   ]
  },
  {
   "cell_type": "code",
   "execution_count": null,
   "metadata": {
    "id": "Ei1BBZKwK201"
   },
   "outputs": [],
   "source": [
    "!unzip cats_dataset.zip"
   ]
  },
  {
   "cell_type": "code",
   "execution_count": null,
   "metadata": {
    "id": "Hs0flSGlPF7G"
   },
   "outputs": [],
   "source": [
    "def denormalize(x):\n",
    "    y = x * torch.tensor([0.5]).type_as(x)\n",
    "    z = y + torch.tensor([0.5]).type_as(y)\n",
    "    return z"
   ]
  },
  {
   "cell_type": "code",
   "execution_count": null,
   "metadata": {
    "id": "AkMaG3b5KHk5"
   },
   "outputs": [],
   "source": [
    "transform = T.Compose(\n",
    "    [\n",
    "        T.RandomHorizontalFlip(),\n",
    "        T.ToTensor(),\n",
    "        T.Normalize(mean=(0.5, 0.5, 0.5), std=(0.5, 0.5, 0.5)),\n",
    "    ]\n",
    ")\n",
    "\n",
    "dataset = torchvision.datasets.ImageFolder(root=\"cats_dataset\", transform=transform)"
   ]
  },
  {
   "cell_type": "code",
   "execution_count": null,
   "metadata": {
    "id": "yJNyPKqIO6B4"
   },
   "outputs": [],
   "source": [
    "class LoadedImagesDataset(torch.utils.data.Dataset):\n",
    "    def __init__(self, dataset):\n",
    "        self.data = []\n",
    "        for d in dataset:\n",
    "            self.data.append(d)\n",
    "\n",
    "    def __len__(self):\n",
    "        return len(self.data)\n",
    "\n",
    "    def __getitem__(self, index):\n",
    "        return self.data[index]"
   ]
  },
  {
   "cell_type": "code",
   "execution_count": null,
   "metadata": {
    "id": "hCwWZ6WLO58P"
   },
   "outputs": [],
   "source": [
    "loaded_dataset = LoadedImagesDataset(dataset)\n",
    "\n",
    "len(loaded_dataset)"
   ]
  },
  {
   "cell_type": "code",
   "execution_count": null,
   "metadata": {
    "colab": {
     "base_uri": "https://localhost:8080/"
    },
    "id": "t_42CkUMQCue",
    "outputId": "ba1bd6fc-751e-4f27-8c00-2ad00aeff12b"
   },
   "outputs": [
    {
     "data": {
      "image/png": "[encoded data removed]",
      "text/plain": [
       "<PIL.Image.Image image mode=RGB size=64x64>"
      ]
     },
     "execution_count": 10,
     "metadata": {},
     "output_type": "execute_result"
    }
   ],
   "source": [
    "TF.to_pil_image(denormalize(loaded_dataset[0][0]))"
   ]
  },
  {
   "cell_type": "markdown",
   "metadata": {
    "id": "NFH7_ErYZBRN"
   },
   "source": [
    "### Setting up an experiment"
   ]
  },
  {
   "cell_type": "code",
   "execution_count": null,
   "metadata": {},
   "outputs": [],
   "source": [
    "from src.models.vanilla_gan import Discriminator, Generator"
   ]
  },
  {
   "cell_type": "code",
   "execution_count": null,
   "metadata": {
    "colab": {
     "base_uri": "https://localhost:8080/",
     "height": 35
    },
    "id": "ItYRJBjWRHgm",
    "outputId": "4e14e701-9ac2-4fd1-f098-f19b2de2eeb6"
   },
   "outputs": [
    {
     "data": {
      "application/vnd.google.colaboratory.intrinsic+json": {
       "type": "string"
      },
      "text/plain": [
       "'cuda'"
      ]
     },
     "execution_count": 13,
     "metadata": {},
     "output_type": "execute_result"
    }
   ],
   "source": [
    "device = \"cuda\" if torch.cuda.is_available() else \"cpu\"\n",
    "device"
   ]
  },
  {
   "cell_type": "code",
   "execution_count": null,
   "metadata": {
    "id": "nEM4uRZXQ78e"
   },
   "outputs": [],
   "source": [
    "BATCH_SIZE = 1024\n",
    "N_EPOCHS = 1\n",
    "SAMPLE_INTERVAL = 10\n",
    "N_IMAGES = 5\n",
    "\n",
    "IMG_SIZE = 64\n",
    "LATENT_DIM = 128\n",
    "N_CHANNELS = 1024\n",
    "\n",
    "D_iters = 3\n",
    "G_iters = 2\n",
    "\n",
    "lr = 2e-4\n",
    "b1 = 0.5\n",
    "b2 = 0.9999\n",
    "\n",
    "parameters = {\n",
    "    \"batch size\": BATCH_SIZE,\n",
    "    \"number of epochs\": N_EPOCHS,\n",
    "    \"sample interval\": SAMPLE_INTERVAL,\n",
    "    \"number of images in sample\": N_IMAGES,\n",
    "    \"image size\": IMG_SIZE,\n",
    "    \"latent dim\": LATENT_DIM,\n",
    "    \"number of channels\": N_CHANNELS,\n",
    "    \"d iters\": D_iters,\n",
    "    \"g iters\": G_iters,\n",
    "    \"b1 b2\": (b1, b2),\n",
    "    \"lr\": lr,\n",
    "}\n",
    "\n",
    "task_name = \"experiment_1.3\""
   ]
  },
  {
   "cell_type": "code",
   "execution_count": null,
   "metadata": {
    "id": "_wkSGG4POumD"
   },
   "outputs": [],
   "source": [
    "dataloader = torch.utils.data.DataLoader(\n",
    "    dataset, batch_size=BATCH_SIZE, shuffle=True, drop_last=True\n",
    ")"
   ]
  },
  {
   "cell_type": "code",
   "execution_count": null,
   "metadata": {
    "id": "YfYCNxGkR6Nv"
   },
   "outputs": [],
   "source": [
    "def weights_init(m):\n",
    "    classname = m.__class__.__name__\n",
    "    if classname.find(\"Conv2d\") != -1:\n",
    "        nn.init.normal_(m.weight.data, 0.0, 0.02)\n",
    "    elif classname.find(\"BatchNorm\") != -1:\n",
    "        nn.init.normal_(m.weight.data, 1.0, 0.02)\n",
    "        nn.init.constant_(m.bias.data, 0)"
   ]
  },
  {
   "cell_type": "code",
   "execution_count": null,
   "metadata": {
    "id": "WrC7Lk6DP2ht"
   },
   "outputs": [],
   "source": [
    "netG = Generator(img_size=IMG_SIZE, latent_dim=LATENT_DIM, n_channels=N_CHANNELS).to(\n",
    "    device\n",
    ")\n",
    "netD = Discriminator(img_size=IMG_SIZE, n_channels=N_CHANNELS).to(device)\n",
    "netG = netG.apply(weights_init)\n",
    "netD = netD.apply(weights_init)"
   ]
  },
  {
   "cell_type": "code",
   "execution_count": null,
   "metadata": {
    "id": "TDjb5XGtSKoN"
   },
   "outputs": [],
   "source": [
    "optimizerG = torch.optim.Adam(netG.parameters(), lr=lr, betas=(b1, b2))\n",
    "optimizerD = torch.optim.Adam(netD.parameters(), lr=lr, betas=(b1, b2))\n",
    "\n",
    "loss_fn = nn.BCELoss()"
   ]
  },
  {
   "cell_type": "code",
   "execution_count": null,
   "metadata": {
    "id": "y8LAB1XhKIi6"
   },
   "outputs": [],
   "source": [
    "def discriminator_train_iteration(\n",
    "    netD: nn.Module, netG: nn.Module, optimizerD: torch.optim.optimizer, data_iter\n",
    ") -> tuple[torch.Tensor, torch.Tensor]:\n",
    "    real_batch, _ = next(data_iter)\n",
    "    real_batch = real_batch.to(device)\n",
    "    bs = real_batch.shape[0]\n",
    "\n",
    "    optimizerD.zero_grad()\n",
    "\n",
    "    y_real = torch.ones(bs, 1).to(device)\n",
    "    outD_real = netD(real_batch)\n",
    "    errD_real = loss_fn(outD_real, y_real)\n",
    "    errD_real.backward()\n",
    "\n",
    "    noise_batch = torch.randn(bs, LATENT_DIM).to(device)\n",
    "    fake_batch = netG(noise_batch).detach()\n",
    "    y_fake = torch.zeros(bs, 1).to(device)\n",
    "    outD_fake = netD(fake_batch)\n",
    "    errD_fake = loss_fn(outD_fake, y_fake)\n",
    "    errD_fake.backward()\n",
    "\n",
    "    return errD_real, errD_fake\n",
    "\n",
    "\n",
    "def generator_train_iteration(\n",
    "    netG: nn.Module, optimizerD: torch.optim.optimizer, data_iter\n",
    ") -> torch.Tensor:\n",
    "    optimizerG.zero_grad()\n",
    "\n",
    "    noise_batch = torch.randn(BATCH_SIZE, LATENT_DIM).to(device)\n",
    "\n",
    "    fake_batch = netG(noise_batch)\n",
    "\n",
    "    outD_gen = netD(fake_batch)\n",
    "    y_gen = torch.ones(BATCH_SIZE, 1).to(device)\n",
    "    errG = loss_fn(outD_gen, y_gen)\n",
    "    errG.backward()\n",
    "\n",
    "    optimizerG.step()\n",
    "\n",
    "    return errG"
   ]
  },
  {
   "cell_type": "code",
   "execution_count": null,
   "metadata": {
    "id": "AWhb7hdyV593"
   },
   "outputs": [],
   "source": [
    "task = Task.init(project_name=\"Cats generation\", task_name=task_name)\n",
    "task.connect(parameters)\n",
    "logger = task.get_logger()\n",
    "\n",
    "data_iter = itertools.cycle(iter(dataloader))\n",
    "\n",
    "netG.train()\n",
    "netD.train()\n",
    "\n",
    "sample_noise = torch.randn(N_IMAGES, LATENT_DIM).to(device)\n",
    "\n",
    "for epoch in tqdm(range(N_EPOCHS), total=N_EPOCHS):\n",
    "    for i in range(len(dataloader)):\n",
    "        steps_done = epoch * len(dataloader) + i\n",
    "\n",
    "        j = 0\n",
    "        while j < D_iters:\n",
    "            j += 1\n",
    "\n",
    "            errD_real, errD_fake = discriminator_train_iteration(\n",
    "                netD, netG, optimizerD, data_iter\n",
    "            )\n",
    "            errD = (errD_real + errD_fake) / 2\n",
    "\n",
    "            logger.report_scalar(\n",
    "                title=\"discriminator/real_loss\",\n",
    "                series=\"series A\",\n",
    "                iteration=steps_done,\n",
    "                value=errD_real.detach().cpu().item(),\n",
    "            )\n",
    "            logger.report_scalar(\n",
    "                title=\"discriminator/fake_loss\",\n",
    "                series=\"series A\",\n",
    "                iteration=steps_done,\n",
    "                value=errD_fake.detach().cpu().item(),\n",
    "            )\n",
    "            logger.report_scalar(\n",
    "                title=\"discriminator/loss\",\n",
    "                series=\"series A\",\n",
    "                iteration=steps_done,\n",
    "                value=errD.detach().cpu().item(),\n",
    "            )\n",
    "\n",
    "            optimizerD.step()\n",
    "\n",
    "        j = 0\n",
    "        while j < G_iters:\n",
    "            j += 1\n",
    "\n",
    "            errG = generator_train_iteration(netG, optimizerG, data_iter)\n",
    "\n",
    "            logger.report_scalar(\n",
    "                title=\"generator/real_loss\",\n",
    "                series=\"series A\",\n",
    "                iteration=steps_done,\n",
    "                value=errG.detach().cpu().item(),\n",
    "            )\n",
    "\n",
    "        if steps_done % SAMPLE_INTERVAL == 0:\n",
    "            with torch.no_grad():\n",
    "                netG.eval()\n",
    "\n",
    "                images = netG(sample_noise)\n",
    "\n",
    "                for i, img in enumerate(images):\n",
    "                    image = TF.to_pil_image(denormalize(img))\n",
    "                    logger.report_image(\n",
    "                        f\"Image {i}\", \"image PIL\", iteration=steps_done, image=image\n",
    "                    )\n",
    "\n",
    "                netG.train()\n",
    "\n",
    "task.close()"
   ]
  },
  {
   "cell_type": "code",
   "execution_count": null,
   "metadata": {
    "id": "17bbW-7Rmlbt"
   },
   "outputs": [],
   "source": [
    "torch.save(\n",
    "    {\n",
    "        \"netG\": netG.state_dict(),\n",
    "        \"netD\": netD.state_dict(),\n",
    "        \"optG\": optimizerG.state_dict(),\n",
    "        \"optD\": optimizerD.state_dict(),\n",
    "    },\n",
    "    task_name + \".pth\",\n",
    ")"
   ]
  }
 ],
 "metadata": {
  "accelerator": "GPU",
  "colab": {
   "collapsed_sections": [
    "NFH7_ErYZBRN"
   ],
   "gpuType": "T4",
   "provenance": []
  },
  "kernelspec": {
   "display_name": "Python 3",
   "name": "python3"
  },
  "language_info": {
   "name": "python"
  }
 },
 "nbformat": 4,
 "nbformat_minor": 0
}
